{
  "nbformat": 4,
  "nbformat_minor": 0,
  "metadata": {
    "kernelspec": {
      "language": "python",
      "display_name": "Python 3",
      "name": "python3"
    },
    "language_info": {
      "pygments_lexer": "ipython3",
      "nbconvert_exporter": "python",
      "version": "3.6.4",
      "file_extension": ".py",
      "codemirror_mode": {
        "name": "ipython",
        "version": 3
      },
      "name": "python",
      "mimetype": "text/x-python"
    },
    "colab": {
      "name": "HamSpam.ipynb",
      "provenance": [],
      "collapsed_sections": []
    },
    "accelerator": "GPU"
  },
  "cells": [
    {
      "cell_type": "markdown",
      "metadata": {
        "id": "WnPM_N_CAKPQ",
        "colab_type": "text"
      },
      "source": [
        "## Collecting Data"
      ]
    },
    {
      "cell_type": "code",
      "metadata": {
        "id": "mRShUVfDAVv5",
        "colab_type": "code",
        "outputId": "dce4d1ca-8033-4980-fb1c-968d467b3c67",
        "colab": {
          "base_uri": "https://localhost:8080/",
          "height": 122
        }
      },
      "source": [
        "from google.colab import drive\n",
        "drive.mount('/content/drive')"
      ],
      "execution_count": 0,
      "outputs": [
        {
          "output_type": "stream",
          "text": [
            "Go to this URL in a browser: https://accounts.google.com/o/oauth2/auth?client_id=947318989803-6bn6qk8qdgf4n4g3pfee6491hc0brc4i.apps.googleusercontent.com&redirect_uri=urn%3aietf%3awg%3aoauth%3a2.0%3aoob&response_type=code&scope=email%20https%3a%2f%2fwww.googleapis.com%2fauth%2fdocs.test%20https%3a%2f%2fwww.googleapis.com%2fauth%2fdrive%20https%3a%2f%2fwww.googleapis.com%2fauth%2fdrive.photos.readonly%20https%3a%2f%2fwww.googleapis.com%2fauth%2fpeopleapi.readonly\n",
            "\n",
            "Enter your authorization code:\n",
            "··········\n",
            "Mounted at /content/drive\n"
          ],
          "name": "stdout"
        }
      ]
    },
    {
      "cell_type": "code",
      "metadata": {
        "trusted": true,
        "id": "6KLGc35BAKPR",
        "colab_type": "code",
        "outputId": "4577d301-2f62-45a1-9fe6-6a52288300aa",
        "colab": {
          "base_uri": "https://localhost:8080/",
          "height": 88
        }
      },
      "source": [
        "import seaborn as sns\n",
        "import matplotlib.pyplot as plt\n",
        "import nltk , re\n",
        "from nltk.corpus import stopwords\n",
        "from nltk.stem import PorterStemmer , WordNetLemmatizer\n",
        "from textblob import TextBlob\n",
        "from wordcloud import WordCloud\n",
        "import numpy as np\n",
        "import pandas as pd\n",
        "from sklearn.model_selection import train_test_split\n",
        "from sklearn.preprocessing import LabelEncoder\n",
        "from keras.preprocessing.text import Tokenizer\n",
        "from keras.preprocessing.sequence import pad_sequences\n",
        "from wordcloud import WordCloud\n",
        "\n"
      ],
      "execution_count": 1,
      "outputs": [
        {
          "output_type": "stream",
          "text": [
            "/usr/local/lib/python3.6/dist-packages/statsmodels/tools/_testing.py:19: FutureWarning: pandas.util.testing is deprecated. Use the functions in the public API at pandas.testing instead.\n",
            "  import pandas.util.testing as tm\n",
            "Using TensorFlow backend.\n"
          ],
          "name": "stderr"
        }
      ]
    },
    {
      "cell_type": "code",
      "metadata": {
        "_uuid": "d629ff2d2480ee46fbb7e2d37f6b5fab8052498a",
        "_cell_guid": "79c7e3d0-c299-4dcb-8224-4455121ee9b0",
        "trusted": true,
        "id": "GqOLi_gpAKPW",
        "colab_type": "code",
        "outputId": "524eea9b-0c92-41ac-c06a-51b2ff91656a",
        "colab": {
          "base_uri": "https://localhost:8080/",
          "height": 34
        }
      },
      "source": [
        "data = pd.read_csv('/content/spam.csv',encoding = 'ISO-8859-1')\n",
        "data.columns"
      ],
      "execution_count": 2,
      "outputs": [
        {
          "output_type": "execute_result",
          "data": {
            "text/plain": [
              "Index(['v1', 'v2', 'Unnamed: 2', 'Unnamed: 3', 'Unnamed: 4'], dtype='object')"
            ]
          },
          "metadata": {
            "tags": []
          },
          "execution_count": 2
        }
      ]
    },
    {
      "cell_type": "code",
      "metadata": {
        "trusted": true,
        "id": "nJ80g5GNAKPa",
        "colab_type": "code",
        "colab": {}
      },
      "source": [
        "data.drop('Unnamed: 3' , axis = 1 , inplace = True)\n",
        "data.drop('Unnamed: 2' , axis = 1 , inplace = True)\n",
        "data.drop('Unnamed: 4' , axis = 1 , inplace = True)"
      ],
      "execution_count": 0,
      "outputs": []
    },
    {
      "cell_type": "code",
      "metadata": {
        "trusted": true,
        "id": "T3FWei3NAKPg",
        "colab_type": "code",
        "outputId": "e0769a13-08ae-426e-c343-0fbd4cfb05bc",
        "colab": {
          "base_uri": "https://localhost:8080/",
          "height": 419
        }
      },
      "source": [
        "data = data.rename( columns= {'v1':'Target' , 'v2' : 'Text'})\n",
        "data"
      ],
      "execution_count": 4,
      "outputs": [
        {
          "output_type": "execute_result",
          "data": {
            "text/html": [
              "<div>\n",
              "<style scoped>\n",
              "    .dataframe tbody tr th:only-of-type {\n",
              "        vertical-align: middle;\n",
              "    }\n",
              "\n",
              "    .dataframe tbody tr th {\n",
              "        vertical-align: top;\n",
              "    }\n",
              "\n",
              "    .dataframe thead th {\n",
              "        text-align: right;\n",
              "    }\n",
              "</style>\n",
              "<table border=\"1\" class=\"dataframe\">\n",
              "  <thead>\n",
              "    <tr style=\"text-align: right;\">\n",
              "      <th></th>\n",
              "      <th>Target</th>\n",
              "      <th>Text</th>\n",
              "    </tr>\n",
              "  </thead>\n",
              "  <tbody>\n",
              "    <tr>\n",
              "      <th>0</th>\n",
              "      <td>ham</td>\n",
              "      <td>Go until jurong point, crazy.. Available only ...</td>\n",
              "    </tr>\n",
              "    <tr>\n",
              "      <th>1</th>\n",
              "      <td>ham</td>\n",
              "      <td>Ok lar... Joking wif u oni...</td>\n",
              "    </tr>\n",
              "    <tr>\n",
              "      <th>2</th>\n",
              "      <td>spam</td>\n",
              "      <td>Free entry in 2 a wkly comp to win FA Cup fina...</td>\n",
              "    </tr>\n",
              "    <tr>\n",
              "      <th>3</th>\n",
              "      <td>ham</td>\n",
              "      <td>U dun say so early hor... U c already then say...</td>\n",
              "    </tr>\n",
              "    <tr>\n",
              "      <th>4</th>\n",
              "      <td>ham</td>\n",
              "      <td>Nah I don't think he goes to usf, he lives aro...</td>\n",
              "    </tr>\n",
              "    <tr>\n",
              "      <th>...</th>\n",
              "      <td>...</td>\n",
              "      <td>...</td>\n",
              "    </tr>\n",
              "    <tr>\n",
              "      <th>5567</th>\n",
              "      <td>spam</td>\n",
              "      <td>This is the 2nd time we have tried 2 contact u...</td>\n",
              "    </tr>\n",
              "    <tr>\n",
              "      <th>5568</th>\n",
              "      <td>ham</td>\n",
              "      <td>Will Ì_ b going to esplanade fr home?</td>\n",
              "    </tr>\n",
              "    <tr>\n",
              "      <th>5569</th>\n",
              "      <td>ham</td>\n",
              "      <td>Pity, * was in mood for that. So...any other s...</td>\n",
              "    </tr>\n",
              "    <tr>\n",
              "      <th>5570</th>\n",
              "      <td>ham</td>\n",
              "      <td>The guy did some bitching but I acted like i'd...</td>\n",
              "    </tr>\n",
              "    <tr>\n",
              "      <th>5571</th>\n",
              "      <td>ham</td>\n",
              "      <td>Rofl. Its true to its name</td>\n",
              "    </tr>\n",
              "  </tbody>\n",
              "</table>\n",
              "<p>5572 rows × 2 columns</p>\n",
              "</div>"
            ],
            "text/plain": [
              "     Target                                               Text\n",
              "0       ham  Go until jurong point, crazy.. Available only ...\n",
              "1       ham                      Ok lar... Joking wif u oni...\n",
              "2      spam  Free entry in 2 a wkly comp to win FA Cup fina...\n",
              "3       ham  U dun say so early hor... U c already then say...\n",
              "4       ham  Nah I don't think he goes to usf, he lives aro...\n",
              "...     ...                                                ...\n",
              "5567   spam  This is the 2nd time we have tried 2 contact u...\n",
              "5568    ham              Will Ì_ b going to esplanade fr home?\n",
              "5569    ham  Pity, * was in mood for that. So...any other s...\n",
              "5570    ham  The guy did some bitching but I acted like i'd...\n",
              "5571    ham                         Rofl. Its true to its name\n",
              "\n",
              "[5572 rows x 2 columns]"
            ]
          },
          "metadata": {
            "tags": []
          },
          "execution_count": 4
        }
      ]
    },
    {
      "cell_type": "code",
      "metadata": {
        "trusted": true,
        "id": "ziWKhpqsAKPq",
        "colab_type": "code",
        "outputId": "372e87ab-19e9-4ad0-9fa5-dd97434566b8",
        "colab": {
          "base_uri": "https://localhost:8080/",
          "height": 68
        }
      },
      "source": [
        "data.dtypes"
      ],
      "execution_count": 0,
      "outputs": [
        {
          "output_type": "execute_result",
          "data": {
            "text/plain": [
              "Target    object\n",
              "Text      object\n",
              "dtype: object"
            ]
          },
          "metadata": {
            "tags": []
          },
          "execution_count": 9
        }
      ]
    },
    {
      "cell_type": "code",
      "metadata": {
        "trusted": true,
        "id": "NjyKdfpUAKPz",
        "colab_type": "code",
        "outputId": "0a018862-0b26-41c0-f1c4-1f0278e129f6",
        "colab": {
          "base_uri": "https://localhost:8080/",
          "height": 34
        }
      },
      "source": [
        "data.shape"
      ],
      "execution_count": 0,
      "outputs": [
        {
          "output_type": "execute_result",
          "data": {
            "text/plain": [
              "(5572, 2)"
            ]
          },
          "metadata": {
            "tags": []
          },
          "execution_count": 10
        }
      ]
    },
    {
      "cell_type": "code",
      "metadata": {
        "trusted": true,
        "id": "saD_vSeOAKP3",
        "colab_type": "code",
        "outputId": "52de0ed6-ec4f-4600-b42f-58029959fb83",
        "colab": {
          "base_uri": "https://localhost:8080/",
          "height": 34
        }
      },
      "source": [
        "data.loc[0,'Text']\n"
      ],
      "execution_count": 0,
      "outputs": [
        {
          "output_type": "execute_result",
          "data": {
            "text/plain": [
              "'Go until jurong point, crazy.. Available only in bugis n great world la e buffet... Cine there got amore wat...'"
            ]
          },
          "metadata": {
            "tags": []
          },
          "execution_count": 11
        }
      ]
    },
    {
      "cell_type": "markdown",
      "metadata": {
        "id": "uvi4fINbAKP7",
        "colab_type": "text"
      },
      "source": [
        "## Text Preprocessing and Feature Engineering"
      ]
    },
    {
      "cell_type": "code",
      "metadata": {
        "trusted": true,
        "id": "eUeWSwRzAKP8",
        "colab_type": "code",
        "colab": {}
      },
      "source": [
        "def pipeline( text ) :\n",
        "    # Handling email addresses\n",
        "    text = text.apply(lambda text : re.sub(r'\\S+@\\S+' , 'EmailAdress' , text) )\n",
        "    \n",
        "    # Handling web adresses\n",
        "    text = text.apply(lambda text : re.sub(r'https\\://\\S+','URL' , text) )\n",
        "    \n",
        "    # Handling 1+ WhiteSpaces and Non-characters \n",
        "    text = text.apply(lambda text : re.sub(' +' , ' ' , text ) )\n",
        "    text = text.apply(lambda text : re.sub('\\n+' , ' ' , text ) )\n",
        "    text = text.apply(lambda text : re.sub(r'[^\\w\\s]','' , text) )\n",
        "    text = text.apply(lambda text : re.sub(r'\\d+','' , text) )\n",
        "    \n",
        "    # Handling StopWords\n",
        "    stpwrd = stopwords.words('english')\n",
        "    text = text.apply(lambda x : ' '.join( word.lower() for word in x.split() if word not in stpwrd))\n",
        "    \n",
        "    # Handling Wrong spellings\n",
        "    #text = text.apply( lambda x : ' '.join(str(TextBlob(word).correct()) for word in x.split(' ') ) )\n",
        "\n",
        "    # Handling Root words\n",
        "    stemming = PorterStemmer()\n",
        "    text = text.apply(lambda x : ' '.join( stemming.stem(word) for word in x.split() ))\n",
        "    \n",
        "    # Lemmatizing words\n",
        "    lemma = WordNetLemmatizer()\n",
        "    text = text.apply(lambda x : ' '.join( lemma.lemmatize(word) for word in x.split() ))\n",
        "    \n",
        "    return text"
      ],
      "execution_count": 0,
      "outputs": []
    },
    {
      "cell_type": "code",
      "metadata": {
        "trusted": true,
        "id": "ZvLbHIQnAKQB",
        "colab_type": "code",
        "outputId": "f1ae930e-ebd5-4397-8160-d2767186fd2d",
        "colab": {
          "base_uri": "https://localhost:8080/",
          "height": 34
        }
      },
      "source": [
        "text_messages = 'Hi my name is somthing@someserver.com https://www.datascience.com'\n",
        "text_messages =re.sub(r'\\S+@\\S+','emailaddress' , text_messages)\n",
        "re.sub(r'https\\://\\S+','URL' , text_messages)"
      ],
      "execution_count": 0,
      "outputs": [
        {
          "output_type": "execute_result",
          "data": {
            "text/plain": [
              "'Hi my name is emailaddress URL'"
            ]
          },
          "metadata": {
            "tags": []
          },
          "execution_count": 13
        }
      ]
    },
    {
      "cell_type": "code",
      "metadata": {
        "trusted": true,
        "id": "i-ap0NFhAKQH",
        "colab_type": "code",
        "outputId": "f731957b-eda5-4a01-d121-d43f484af9e8",
        "colab": {
          "base_uri": "https://localhost:8080/",
          "height": 221
        }
      },
      "source": [
        "data.Text"
      ],
      "execution_count": 0,
      "outputs": [
        {
          "output_type": "execute_result",
          "data": {
            "text/plain": [
              "0       Go until jurong point, crazy.. Available only ...\n",
              "1                           Ok lar... Joking wif u oni...\n",
              "2       Free entry in 2 a wkly comp to win FA Cup fina...\n",
              "3       U dun say so early hor... U c already then say...\n",
              "4       Nah I don't think he goes to usf, he lives aro...\n",
              "                              ...                        \n",
              "5567    This is the 2nd time we have tried 2 contact u...\n",
              "5568                Will Ì_ b going to esplanade fr home?\n",
              "5569    Pity, * was in mood for that. So...any other s...\n",
              "5570    The guy did some bitching but I acted like i'd...\n",
              "5571                           Rofl. Its true to its name\n",
              "Name: Text, Length: 5572, dtype: object"
            ]
          },
          "metadata": {
            "tags": []
          },
          "execution_count": 14
        }
      ]
    },
    {
      "cell_type": "code",
      "metadata": {
        "trusted": true,
        "id": "QK61SErQAKQL",
        "colab_type": "code",
        "colab": {}
      },
      "source": [
        "#nltk.download('stopwords')\n",
        "#nltk.download('wordnet')\n",
        "data.Text = pipeline( data.Text )"
      ],
      "execution_count": 0,
      "outputs": []
    },
    {
      "cell_type": "code",
      "metadata": {
        "trusted": true,
        "id": "tXpDiAi5AKQO",
        "colab_type": "code",
        "outputId": "1585685e-e2a4-4280-dfc1-6f55b15e2073",
        "colab": {
          "base_uri": "https://localhost:8080/",
          "height": 221
        }
      },
      "source": [
        "data.Text"
      ],
      "execution_count": 0,
      "outputs": [
        {
          "output_type": "execute_result",
          "data": {
            "text/plain": [
              "0       go jurong point crazi avail bugi n great world...\n",
              "1                                   ok lar joke wif u oni\n",
              "2       free entri wkli comp win fa cup final tkt st m...\n",
              "3                     u dun say earli hor u c alreadi say\n",
              "4               nah dont think goe usf live around though\n",
              "                              ...                        \n",
              "5567    nd time tri contact u u å pound prize claim ea...\n",
              "5568                             ì_ b go esplanad fr home\n",
              "5569                              piti mood soani suggest\n",
              "5570    guy bitch act like id interest buy someth el n...\n",
              "5571                                       rofl true name\n",
              "Name: Text, Length: 5572, dtype: object"
            ]
          },
          "metadata": {
            "tags": []
          },
          "execution_count": 28
        }
      ]
    },
    {
      "cell_type": "code",
      "metadata": {
        "id": "0pBWRlPwG7VH",
        "colab_type": "code",
        "outputId": "3535b8f4-bbb5-4e61-ec05-a04c0c1e15d2",
        "colab": {
          "base_uri": "https://localhost:8080/",
          "height": 419
        }
      },
      "source": [
        "data"
      ],
      "execution_count": 0,
      "outputs": [
        {
          "output_type": "execute_result",
          "data": {
            "text/html": [
              "<div>\n",
              "<style scoped>\n",
              "    .dataframe tbody tr th:only-of-type {\n",
              "        vertical-align: middle;\n",
              "    }\n",
              "\n",
              "    .dataframe tbody tr th {\n",
              "        vertical-align: top;\n",
              "    }\n",
              "\n",
              "    .dataframe thead th {\n",
              "        text-align: right;\n",
              "    }\n",
              "</style>\n",
              "<table border=\"1\" class=\"dataframe\">\n",
              "  <thead>\n",
              "    <tr style=\"text-align: right;\">\n",
              "      <th></th>\n",
              "      <th>Target</th>\n",
              "      <th>Text</th>\n",
              "    </tr>\n",
              "  </thead>\n",
              "  <tbody>\n",
              "    <tr>\n",
              "      <th>0</th>\n",
              "      <td>ham</td>\n",
              "      <td>go jurong point crazi avail bugi n great world...</td>\n",
              "    </tr>\n",
              "    <tr>\n",
              "      <th>1</th>\n",
              "      <td>ham</td>\n",
              "      <td>ok lar joke wif u oni</td>\n",
              "    </tr>\n",
              "    <tr>\n",
              "      <th>2</th>\n",
              "      <td>spam</td>\n",
              "      <td>free entri wkli comp win fa cup final tkt st m...</td>\n",
              "    </tr>\n",
              "    <tr>\n",
              "      <th>3</th>\n",
              "      <td>ham</td>\n",
              "      <td>u dun say earli hor u c alreadi say</td>\n",
              "    </tr>\n",
              "    <tr>\n",
              "      <th>4</th>\n",
              "      <td>ham</td>\n",
              "      <td>nah dont think goe usf live around though</td>\n",
              "    </tr>\n",
              "    <tr>\n",
              "      <th>...</th>\n",
              "      <td>...</td>\n",
              "      <td>...</td>\n",
              "    </tr>\n",
              "    <tr>\n",
              "      <th>5567</th>\n",
              "      <td>spam</td>\n",
              "      <td>nd time tri contact u u å pound prize claim ea...</td>\n",
              "    </tr>\n",
              "    <tr>\n",
              "      <th>5568</th>\n",
              "      <td>ham</td>\n",
              "      <td>ì_ b go esplanad fr home</td>\n",
              "    </tr>\n",
              "    <tr>\n",
              "      <th>5569</th>\n",
              "      <td>ham</td>\n",
              "      <td>piti mood soani suggest</td>\n",
              "    </tr>\n",
              "    <tr>\n",
              "      <th>5570</th>\n",
              "      <td>ham</td>\n",
              "      <td>guy bitch act like id interest buy someth el n...</td>\n",
              "    </tr>\n",
              "    <tr>\n",
              "      <th>5571</th>\n",
              "      <td>ham</td>\n",
              "      <td>rofl true name</td>\n",
              "    </tr>\n",
              "  </tbody>\n",
              "</table>\n",
              "<p>5572 rows × 2 columns</p>\n",
              "</div>"
            ],
            "text/plain": [
              "     Target                                               Text\n",
              "0       ham  go jurong point crazi avail bugi n great world...\n",
              "1       ham                              ok lar joke wif u oni\n",
              "2      spam  free entri wkli comp win fa cup final tkt st m...\n",
              "3       ham                u dun say earli hor u c alreadi say\n",
              "4       ham          nah dont think goe usf live around though\n",
              "...     ...                                                ...\n",
              "5567   spam  nd time tri contact u u å pound prize claim ea...\n",
              "5568    ham                           ì_ b go esplanad fr home\n",
              "5569    ham                            piti mood soani suggest\n",
              "5570    ham  guy bitch act like id interest buy someth el n...\n",
              "5571    ham                                     rofl true name\n",
              "\n",
              "[5572 rows x 2 columns]"
            ]
          },
          "metadata": {
            "tags": []
          },
          "execution_count": 29
        }
      ]
    },
    {
      "cell_type": "code",
      "metadata": {
        "id": "-jdOMgadG9wf",
        "colab_type": "code",
        "outputId": "14523a9e-e5f8-4a18-f69e-3cd66afad299",
        "colab": {
          "base_uri": "https://localhost:8080/",
          "height": 68
        }
      },
      "source": [
        "data.isna().sum()"
      ],
      "execution_count": 0,
      "outputs": [
        {
          "output_type": "execute_result",
          "data": {
            "text/plain": [
              "Target    0\n",
              "Text      0\n",
              "dtype: int64"
            ]
          },
          "metadata": {
            "tags": []
          },
          "execution_count": 30
        }
      ]
    },
    {
      "cell_type": "code",
      "metadata": {
        "id": "Z5WgLdeuHrSG",
        "colab_type": "code",
        "colab": {}
      },
      "source": [
        "#Train and test split with 80:20 ratio\n",
        "train, test = train_test_split(data, test_size=0.2) \n",
        "# Define the sequence lengths, max number of words and embedding dimensions\n",
        "# Sequence length of each sentence. If more, truncate. If less, pad with zeros\n",
        "\n",
        "MAX_SEQUENCE_LENGTH = 300 \n",
        "\n",
        "# Top 20000 frequently occurring words\n",
        "MAX_NB_WORDS = 20000 \n",
        "tokens = Tokenizer(num_words = MAX_NB_WORDS )\n",
        "tokens.fit_on_texts(train.Text)\n",
        "train_seq = tokens.texts_to_sequences(train.Text)\n",
        "test_seq = tokens.texts_to_sequences(test.Text)"
      ],
      "execution_count": 0,
      "outputs": []
    },
    {
      "cell_type": "code",
      "metadata": {
        "id": "LCet4nCIJTyB",
        "colab_type": "code",
        "outputId": "8806e415-dc4c-42f0-80c9-86377650bb2d",
        "colab": {
          "base_uri": "https://localhost:8080/",
          "height": 34
        }
      },
      "source": [
        "train.shape , test.shape"
      ],
      "execution_count": 0,
      "outputs": [
        {
          "output_type": "execute_result",
          "data": {
            "text/plain": [
              "((4457, 2), (1115, 2))"
            ]
          },
          "metadata": {
            "tags": []
          },
          "execution_count": 32
        }
      ]
    },
    {
      "cell_type": "code",
      "metadata": {
        "id": "x_F36IK5J-Mx",
        "colab_type": "code",
        "outputId": "926992df-d5ac-430e-feb5-e5bf853750ec",
        "colab": {
          "base_uri": "https://localhost:8080/",
          "height": 34
        }
      },
      "source": [
        "len(tokens.word_index)"
      ],
      "execution_count": 0,
      "outputs": [
        {
          "output_type": "execute_result",
          "data": {
            "text/plain": [
              "6319"
            ]
          },
          "metadata": {
            "tags": []
          },
          "execution_count": 33
        }
      ]
    },
    {
      "cell_type": "code",
      "metadata": {
        "id": "cDXl7JUjLRhB",
        "colab_type": "code",
        "outputId": "b28b36ae-bd01-4310-96dd-fdc5e56f3fed",
        "colab": {
          "base_uri": "https://localhost:8080/",
          "height": 51
        }
      },
      "source": [
        "# For padding let's get the maxLen of sequence\n",
        "maxLen = -1\n",
        "for word in train_seq:\n",
        "  if len(word) > maxLen :\n",
        "    maxLen = len(word)\n",
        "print(maxLen)\n",
        "for word in test_seq:\n",
        "  if len(word) > maxLen :\n",
        "    maxLen = len(word)\n",
        "print(maxLen)"
      ],
      "execution_count": 10,
      "outputs": [
        {
          "output_type": "stream",
          "text": [
            "86\n",
            "86\n"
          ],
          "name": "stdout"
        }
      ]
    },
    {
      "cell_type": "code",
      "metadata": {
        "id": "gIea-vFcL27B",
        "colab_type": "code",
        "colab": {}
      },
      "source": [
        "train_data = pad_sequences( train_seq , maxlen =300)\n",
        "test_data = pad_sequences( test_seq , maxlen =300)"
      ],
      "execution_count": 0,
      "outputs": []
    },
    {
      "cell_type": "code",
      "metadata": {
        "id": "eSGedJy4MGwe",
        "colab_type": "code",
        "outputId": "8207617e-22ac-46a2-fc27-1039db3640cc",
        "colab": {
          "base_uri": "https://localhost:8080/",
          "height": 136
        }
      },
      "source": [
        "train_data"
      ],
      "execution_count": 0,
      "outputs": [
        {
          "output_type": "execute_result",
          "data": {
            "text/plain": [
              "array([[   0,    0,    0, ..., 2014,  261,  307],\n",
              "       [   0,    0,    0, ...,   30, 2015,   40],\n",
              "       [   0,    0,    0, ...,    2, 1110, 1568],\n",
              "       ...,\n",
              "       [   0,    0,    0, ...,   21,    2,   52],\n",
              "       [   0,    0,    0, ...,   25, 2775, 6318],\n",
              "       [   0,    0,    0, ...,  164, 2598, 6319]], dtype=int32)"
            ]
          },
          "metadata": {
            "tags": []
          },
          "execution_count": 36
        }
      ]
    },
    {
      "cell_type": "code",
      "metadata": {
        "id": "SnLe1jckMg5J",
        "colab_type": "code",
        "colab": {}
      },
      "source": [
        "## Encoding our target\n",
        "encode = LabelEncoder()\n",
        "encode.fit(train.Target)\n",
        "train_labels = encode.transform(train.Target)\n",
        "test_labels = encode.transform(test.Target)\n"
      ],
      "execution_count": 0,
      "outputs": []
    },
    {
      "cell_type": "code",
      "metadata": {
        "id": "u5tohFRsNAgn",
        "colab_type": "code",
        "outputId": "40688942-006c-45fc-bac0-03426cea78d9",
        "colab": {
          "base_uri": "https://localhost:8080/",
          "height": 34
        }
      },
      "source": [
        "encode.classes_ , encode"
      ],
      "execution_count": 0,
      "outputs": [
        {
          "output_type": "execute_result",
          "data": {
            "text/plain": [
              "(array(['ham', 'spam'], dtype=object), LabelEncoder())"
            ]
          },
          "metadata": {
            "tags": []
          },
          "execution_count": 38
        }
      ]
    },
    {
      "cell_type": "code",
      "metadata": {
        "id": "N1jwekC0NHM4",
        "colab_type": "code",
        "outputId": "e642f8ec-d45d-44a8-883e-941e60c9c361",
        "colab": {
          "base_uri": "https://localhost:8080/",
          "height": 51
        }
      },
      "source": [
        "print(np.unique(train_labels, return_counts=True))\n",
        "print(np.unique(test_labels, return_counts=True))"
      ],
      "execution_count": 0,
      "outputs": [
        {
          "output_type": "stream",
          "text": [
            "(array([0, 1]), array([3864,  593]))\n",
            "(array([0, 1]), array([961, 154]))\n"
          ],
          "name": "stdout"
        }
      ]
    },
    {
      "cell_type": "code",
      "metadata": {
        "id": "tyVLPXfcNNgY",
        "colab_type": "code",
        "outputId": "5c7074a6-8fce-401c-9c8d-4b085d065ec0",
        "colab": {
          "base_uri": "https://localhost:8080/",
          "height": 34
        }
      },
      "source": [
        "train_labels"
      ],
      "execution_count": 0,
      "outputs": [
        {
          "output_type": "execute_result",
          "data": {
            "text/plain": [
              "array([0, 0, 1, ..., 0, 1, 0])"
            ]
          },
          "metadata": {
            "tags": []
          },
          "execution_count": 40
        }
      ]
    },
    {
      "cell_type": "markdown",
      "metadata": {
        "id": "hJRXl1SuHVMu",
        "colab_type": "text"
      },
      "source": [
        "## Exploratory Data Analysis"
      ]
    },
    {
      "cell_type": "code",
      "metadata": {
        "id": "yrX3Xur2HRG8",
        "colab_type": "code",
        "outputId": "d0c02380-2de4-444a-acf4-7be67acd2066",
        "colab": {
          "base_uri": "https://localhost:8080/",
          "height": 299
        }
      },
      "source": [
        "data['Target'].value_counts().plot(kind ='bar' , title = 'Target\\'s Frequency' )\n",
        "plt.show()"
      ],
      "execution_count": 0,
      "outputs": [
        {
          "output_type": "display_data",
          "data": {
            "image/png": "[encoded data removed]",
            "text/plain": [
              "<Figure size 432x288 with 1 Axes>"
            ]
          },
          "metadata": {
            "tags": [],
            "needs_background": "light"
          }
        }
      ]
    },
    {
      "cell_type": "markdown",
      "metadata": {
        "id": "PgY8wNmmHcy2",
        "colab_type": "text"
      },
      "source": [
        "## Exploring words in our training dataset"
      ]
    },
    {
      "cell_type": "code",
      "metadata": {
        "id": "Xa2AXw-GHarz",
        "colab_type": "code",
        "outputId": "cc957c7b-bddd-4e3c-908a-e52fd121d248",
        "colab": {
          "base_uri": "https://localhost:8080/",
          "height": 34
        }
      },
      "source": [
        "spam_train = sum(train_labels)\n",
        "ham_train = len(train_labels ) - sum(train_labels)\n",
        "spam_train , ham_train"
      ],
      "execution_count": 0,
      "outputs": [
        {
          "output_type": "execute_result",
          "data": {
            "text/plain": [
              "(593, 3864)"
            ]
          },
          "metadata": {
            "tags": []
          },
          "execution_count": 42
        }
      ]
    },
    {
      "cell_type": "code",
      "metadata": {
        "id": "RnIa634JOwH-",
        "colab_type": "code",
        "outputId": "51ab8154-c8a3-4252-fc28-8f910a2b4ab1",
        "colab": {
          "base_uri": "https://localhost:8080/",
          "height": 284
        }
      },
      "source": [
        "train['Target'].value_counts().plot(kind = 'bar' )\n",
        "plt.show()"
      ],
      "execution_count": 0,
      "outputs": [
        {
          "output_type": "display_data",
          "data": {
            "image/png": "[encoded data removed]",
            "text/plain": [
              "<Figure size 432x288 with 1 Axes>"
            ]
          },
          "metadata": {
            "tags": [],
            "needs_background": "light"
          }
        }
      ]
    },
    {
      "cell_type": "code",
      "metadata": {
        "id": "wCNRLpoIPCFo",
        "colab_type": "code",
        "outputId": "068d0461-4377-446e-d06a-a8bb162be8e3",
        "colab": {
          "base_uri": "https://localhost:8080/",
          "height": 285
        }
      },
      "source": [
        "test['Target'].value_counts().plot(kind = 'bar' )\n",
        "plt.show()"
      ],
      "execution_count": 0,
      "outputs": [
        {
          "output_type": "display_data",
          "data": {
            "image/png": "[encoded data removed]",
            "text/plain": [
              "<Figure size 432x288 with 1 Axes>"
            ]
          },
          "metadata": {
            "tags": [],
            "needs_background": "light"
          }
        }
      ]
    },
    {
      "cell_type": "code",
      "metadata": {
        "id": "igTPALUzPXBP",
        "colab_type": "code",
        "colab": {}
      },
      "source": [
        ""
      ],
      "execution_count": 0,
      "outputs": []
    },
    {
      "cell_type": "markdown",
      "metadata": {
        "id": "TudL_3jEPaQ6",
        "colab_type": "text"
      },
      "source": [
        "## Most common spam words in our dataset"
      ]
    },
    {
      "cell_type": "code",
      "metadata": {
        "id": "WphgJi43PdFm",
        "colab_type": "code",
        "outputId": "57c612a3-56bb-4e5a-9142-d8931b315888",
        "colab": {
          "base_uri": "https://localhost:8080/",
          "height": 310
        }
      },
      "source": [
        "stringg = data[ data.Target == 'spam'].Text.str.cat()\n",
        "wcloud = WordCloud().generate(stringg)\n",
        "plt.figure(figsize = [10,23])\n",
        "plt.imshow(wcloud)\n",
        "plt.axis('off')\n",
        "(-0.5,399.5,199.5,-0.5)\n",
        "plt.show()"
      ],
      "execution_count": 0,
      "outputs": [
        {
          "output_type": "display_data",
          "data": {
            "image/png": "[encoded data removed]",
            "text/plain": [
              "<Figure size 720x1656 with 1 Axes>"
            ]
          },
          "metadata": {
            "tags": [],
            "needs_background": "light"
          }
        }
      ]
    },
    {
      "cell_type": "code",
      "metadata": {
        "id": "1WnAu4P2P2jB",
        "colab_type": "code",
        "colab": {}
      },
      "source": [
        "## Preparing our labels our neural network changing dtypes\n",
        "from tensorflow import keras\n",
        "train_labels = keras.utils.to_categorical(train_labels)\n",
        "test_labels = keras.utils.to_categorical(test_labels)"
      ],
      "execution_count": 0,
      "outputs": []
    },
    {
      "cell_type": "code",
      "metadata": {
        "id": "-JmcGzStS_t5",
        "colab_type": "code",
        "outputId": "9e3a740e-3def-409d-dd1f-dc734a62e709",
        "colab": {
          "base_uri": "https://localhost:8080/",
          "height": 51
        }
      },
      "source": [
        "print('Shape of data tensor:', train_data.shape)\n",
        "print('Shape of label tensor:', train_labels.shape)"
      ],
      "execution_count": 0,
      "outputs": [
        {
          "output_type": "stream",
          "text": [
            "Shape of data tensor: (4457, 80)\n",
            "Shape of label tensor: (4457,)\n"
          ],
          "name": "stdout"
        }
      ]
    },
    {
      "cell_type": "markdown",
      "metadata": {
        "id": "9OTIZ7I_TmpD",
        "colab_type": "text"
      },
      "source": [
        "## Modelling"
      ]
    },
    {
      "cell_type": "code",
      "metadata": {
        "id": "hZ_ul035THUq",
        "colab_type": "code",
        "colab": {}
      },
      "source": [
        "from keras.layers import Dense , LSTM , SimpleRNN , Dropout , Activation , Embedding\n",
        "from keras.layers import Bidirectional , MaxPooling1D , Conv1D , Flatten , BatchNormalization , GlobalMaxPool1D\n",
        "from keras.models import Sequential "
      ],
      "execution_count": 0,
      "outputs": []
    },
    {
      "cell_type": "code",
      "metadata": {
        "id": "GSyQbuHzWC9N",
        "colab_type": "code",
        "colab": {}
      },
      "source": [
        "model = Sequential()\n",
        "model.add(Embedding(MAX_NB_WORDS , 100 , input_length = MAX_SEQUENCE_LENGTH))\n",
        "model.add(Dropout(0.5))\n",
        "model.add(Conv1D(128,5,activation='relu'))\n",
        "model.add(MaxPooling1D(5))\n",
        "model.add(BatchNormalization())\n",
        "model.add(Conv1D(128,5,activation='relu'))\n",
        "model.add(MaxPooling1D(5))\n",
        "model.add(BatchNormalization())\n",
        "model.add(Flatten())\n",
        "model.add(Dense(128,activation ='relu'))\n",
        "model.add(Dense(2,activation='softmax'))"
      ],
      "execution_count": 0,
      "outputs": []
    },
    {
      "cell_type": "code",
      "metadata": {
        "id": "QtfoaJKYX0jm",
        "colab_type": "code",
        "colab": {
          "base_uri": "https://localhost:8080/",
          "height": 527
        },
        "outputId": "dcf0d18e-55ab-4fd5-fc7b-0fbd5e6a202e"
      },
      "source": [
        "model.summary()"
      ],
      "execution_count": 16,
      "outputs": [
        {
          "output_type": "stream",
          "text": [
            "Model: \"sequential_1\"\n",
            "_________________________________________________________________\n",
            "Layer (type)                 Output Shape              Param #   \n",
            "=================================================================\n",
            "embedding_1 (Embedding)      (None, 300, 100)          2000000   \n",
            "_________________________________________________________________\n",
            "dropout_1 (Dropout)          (None, 300, 100)          0         \n",
            "_________________________________________________________________\n",
            "conv1d_1 (Conv1D)            (None, 296, 128)          64128     \n",
            "_________________________________________________________________\n",
            "max_pooling1d_1 (MaxPooling1 (None, 59, 128)           0         \n",
            "_________________________________________________________________\n",
            "batch_normalization_1 (Batch (None, 59, 128)           512       \n",
            "_________________________________________________________________\n",
            "conv1d_2 (Conv1D)            (None, 55, 128)           82048     \n",
            "_________________________________________________________________\n",
            "max_pooling1d_2 (MaxPooling1 (None, 11, 128)           0         \n",
            "_________________________________________________________________\n",
            "batch_normalization_2 (Batch (None, 11, 128)           512       \n",
            "_________________________________________________________________\n",
            "flatten_1 (Flatten)          (None, 1408)              0         \n",
            "_________________________________________________________________\n",
            "dense_1 (Dense)              (None, 128)               180352    \n",
            "_________________________________________________________________\n",
            "dense_2 (Dense)              (None, 2)                 258       \n",
            "=================================================================\n",
            "Total params: 2,327,810\n",
            "Trainable params: 2,327,298\n",
            "Non-trainable params: 512\n",
            "_________________________________________________________________\n"
          ],
          "name": "stdout"
        }
      ]
    },
    {
      "cell_type": "code",
      "metadata": {
        "id": "oeUIjt0JX5eU",
        "colab_type": "code",
        "colab": {
          "base_uri": "https://localhost:8080/",
          "height": 258
        },
        "outputId": "c47a8ba2-4997-4617-c703-e60deb833664"
      },
      "source": [
        "model.compile(loss='categorical_crossentropy' , optimizer='adam',metrics =['accuracy'])\n",
        "history = model.fit(train_data,train_labels , batch_size = 64 , epochs = 5 , verbose = 1 , validation_split = 0.2)"
      ],
      "execution_count": 47,
      "outputs": [
        {
          "output_type": "stream",
          "text": [
            "/usr/local/lib/python3.6/dist-packages/tensorflow/python/framework/indexed_slices.py:434: UserWarning: Converting sparse IndexedSlices to a dense Tensor of unknown shape. This may consume a large amount of memory.\n",
            "  \"Converting sparse IndexedSlices to a dense Tensor of unknown shape. \"\n"
          ],
          "name": "stderr"
        },
        {
          "output_type": "stream",
          "text": [
            "Train on 3565 samples, validate on 892 samples\n",
            "Epoch 1/5\n",
            "3565/3565 [==============================] - 1s 370us/step - loss: 0.0051 - accuracy: 0.9989 - val_loss: 0.1295 - val_accuracy: 0.9910\n",
            "Epoch 2/5\n",
            "3565/3565 [==============================] - 1s 243us/step - loss: 0.0068 - accuracy: 0.9986 - val_loss: 0.0755 - val_accuracy: 0.9899\n",
            "Epoch 3/5\n",
            "3565/3565 [==============================] - 1s 237us/step - loss: 0.0046 - accuracy: 0.9994 - val_loss: 0.1083 - val_accuracy: 0.9888\n",
            "Epoch 4/5\n",
            "3565/3565 [==============================] - 1s 239us/step - loss: 0.0137 - accuracy: 0.9980 - val_loss: 0.1057 - val_accuracy: 0.9922\n",
            "Epoch 5/5\n",
            "3565/3565 [==============================] - 1s 237us/step - loss: 0.0136 - accuracy: 0.9972 - val_loss: 0.0844 - val_accuracy: 0.9888\n"
          ],
          "name": "stdout"
        }
      ]
    },
    {
      "cell_type": "code",
      "metadata": {
        "id": "mhdx2SelcTHz",
        "colab_type": "code",
        "colab": {
          "base_uri": "https://localhost:8080/",
          "height": 272
        },
        "outputId": "c57a00c7-9a76-4dc5-fa57-2cbf75e38f04"
      },
      "source": [
        "predicted=model.predict(test_data)\n",
        "predicted\n",
        "\n",
        "#model evaluation\n",
        "\n",
        "import sklearn\n",
        "from sklearn.metrics import precision_recall_fscore_support as score\n",
        "\n",
        "precision, recall, fscore, support = score(test_labels, predicted.round())\n",
        "\n",
        "print('precision: {}'.format(precision))\n",
        "print('recall: {}'.format(recall))\n",
        "print('fscore: {}'.format(fscore))\n",
        "print('support: {}'.format(support))\n",
        "\n",
        "print(\"############################\")\n",
        "\n",
        "print(sklearn.metrics.classification_report(test_labels, predicted.round()))"
      ],
      "execution_count": 48,
      "outputs": [
        {
          "output_type": "stream",
          "text": [
            "precision: [0.98082745 0.98387097]\n",
            "recall: [0.99794661 0.86524823]\n",
            "fscore: [0.98931298 0.92075472]\n",
            "support: [974 141]\n",
            "############################\n",
            "              precision    recall  f1-score   support\n",
            "\n",
            "           0       0.98      1.00      0.99       974\n",
            "           1       0.98      0.87      0.92       141\n",
            "\n",
            "   micro avg       0.98      0.98      0.98      1115\n",
            "   macro avg       0.98      0.93      0.96      1115\n",
            "weighted avg       0.98      0.98      0.98      1115\n",
            " samples avg       0.98      0.98      0.98      1115\n",
            "\n"
          ],
          "name": "stdout"
        }
      ]
    },
    {
      "cell_type": "code",
      "metadata": {
        "id": "PmFaIzNNaTwS",
        "colab_type": "code",
        "colab": {
          "base_uri": "https://localhost:8080/",
          "height": 295
        },
        "outputId": "4349e919-5233-477d-f512-0810fb3779c8"
      },
      "source": [
        "plt.plot(history.history['accuracy'])\n",
        "plt.plot(history.history['val_accuracy'])\n",
        "plt.title('model accuracy')\n",
        "plt.ylabel('accuracy')\n",
        "plt.xlabel('epoch')\n",
        "plt.legend(['train', 'test'], loc='upper left')\n",
        "plt.show()"
      ],
      "execution_count": 49,
      "outputs": [
        {
          "output_type": "display_data",
          "data": {
            "image/png": "[encoded data removed]",
            "text/plain": [
              "<Figure size 432x288 with 1 Axes>"
            ]
          },
          "metadata": {
            "tags": [],
            "needs_background": "light"
          }
        }
      ]
    },
    {
      "cell_type": "code",
      "metadata": {
        "id": "Jt5kC5lecANC",
        "colab_type": "code",
        "colab": {
          "base_uri": "https://localhost:8080/",
          "height": 295
        },
        "outputId": "266efd63-d51a-4e2d-e5e4-1dc2bdce86db"
      },
      "source": [
        "plt.plot(history.history['loss'])\n",
        "plt.plot(history.history['val_loss'])\n",
        "plt.title('model loss')\n",
        "plt.ylabel('loss')\n",
        "plt.xlabel('epoch')\n",
        "plt.legend(['train', 'test'], loc='upper left')\n",
        "plt.show()"
      ],
      "execution_count": 50,
      "outputs": [
        {
          "output_type": "display_data",
          "data": {
            "image/png": "[encoded data removed]",
            "text/plain": [
              "<Figure size 432x288 with 1 Axes>"
            ]
          },
          "metadata": {
            "tags": [],
            "needs_background": "light"
          }
        }
      ]
    },
    {
      "cell_type": "code",
      "metadata": {
        "id": "spkRvl8QdPO_",
        "colab_type": "code",
        "colab": {
          "base_uri": "https://localhost:8080/",
          "height": 275
        },
        "outputId": "526d4cef-9dd3-436e-d46f-17ab961abc79"
      },
      "source": [
        "#import library\n",
        "from keras.layers.recurrent import SimpleRNN\n",
        "\n",
        "#model training\n",
        "\n",
        "print('Training SIMPLERNN model.')\n",
        "\n",
        "model = Sequential()\n",
        "model.add(Embedding(MAX_NB_WORDS,\n",
        " 100,\n",
        " input_length=MAX_SEQUENCE_LENGTH\n",
        " ))\n",
        "model.add(SimpleRNN(2, input_shape=(None,1)))\n",
        "\n",
        "model.add(Dense(2,activation='softmax'))\n",
        "\n",
        "model.compile(loss = 'binary_crossentropy', optimizer='adam',metrics = ['accuracy'])\n",
        "\n",
        "history = model.fit(train_data, train_labels,batch_size=16,epochs=5, validation_split =0.2 )"
      ],
      "execution_count": 54,
      "outputs": [
        {
          "output_type": "stream",
          "text": [
            "Training SIMPLERNN model.\n"
          ],
          "name": "stdout"
        },
        {
          "output_type": "stream",
          "text": [
            "/usr/local/lib/python3.6/dist-packages/tensorflow/python/framework/indexed_slices.py:434: UserWarning: Converting sparse IndexedSlices to a dense Tensor of unknown shape. This may consume a large amount of memory.\n",
            "  \"Converting sparse IndexedSlices to a dense Tensor of unknown shape. \"\n"
          ],
          "name": "stderr"
        },
        {
          "output_type": "stream",
          "text": [
            "Train on 3565 samples, validate on 892 samples\n",
            "Epoch 1/5\n",
            "3565/3565 [==============================] - 43s 12ms/step - loss: 0.4629 - accuracy: 0.8858 - val_loss: 0.2898 - val_accuracy: 0.9552\n",
            "Epoch 2/5\n",
            "3565/3565 [==============================] - 42s 12ms/step - loss: 0.1763 - accuracy: 0.9778 - val_loss: 0.1676 - val_accuracy: 0.9709\n",
            "Epoch 3/5\n",
            "3565/3565 [==============================] - 42s 12ms/step - loss: 0.0865 - accuracy: 0.9933 - val_loss: 0.1265 - val_accuracy: 0.9765\n",
            "Epoch 4/5\n",
            "3565/3565 [==============================] - 42s 12ms/step - loss: 0.0510 - accuracy: 0.9980 - val_loss: 0.1109 - val_accuracy: 0.9765\n",
            "Epoch 5/5\n",
            "3565/3565 [==============================] - 42s 12ms/step - loss: 0.0365 - accuracy: 0.9980 - val_loss: 0.1054 - val_accuracy: 0.9709\n"
          ],
          "name": "stdout"
        }
      ]
    },
    {
      "cell_type": "code",
      "metadata": {
        "id": "xJ66LGb6deaf",
        "colab_type": "code",
        "colab": {
          "base_uri": "https://localhost:8080/",
          "height": 295
        },
        "outputId": "9f8a8ef5-6393-4cb8-e6d2-413fb1e57cde"
      },
      "source": [
        "plt.plot(history.history['accuracy'])\n",
        "plt.plot(history.history['val_accuracy'])\n",
        "plt.title('model accuracy')\n",
        "plt.ylabel('accuracy')\n",
        "plt.xlabel('epoch')\n",
        "plt.legend(['train', 'test'], loc='upper left')\n",
        "plt.show()"
      ],
      "execution_count": 55,
      "outputs": [
        {
          "output_type": "display_data",
          "data": {
            "image/png": "[encoded data removed]",
            "text/plain": [
              "<Figure size 432x288 with 1 Axes>"
            ]
          },
          "metadata": {
            "tags": [],
            "needs_background": "light"
          }
        }
      ]
    },
    {
      "cell_type": "code",
      "metadata": {
        "id": "iGPwr5qhewxR",
        "colab_type": "code",
        "colab": {
          "base_uri": "https://localhost:8080/",
          "height": 295
        },
        "outputId": "dd705aac-df59-47f2-dd2b-cd27418f9e56"
      },
      "source": [
        "plt.plot(history.history['loss'])\n",
        "plt.plot(history.history['val_loss'])\n",
        "plt.title('model loss')\n",
        "plt.ylabel('loss')\n",
        "plt.xlabel('epoch')\n",
        "plt.legend(['train', 'test'], loc='upper left')\n",
        "plt.show()"
      ],
      "execution_count": 56,
      "outputs": [
        {
          "output_type": "display_data",
          "data": {
            "image/png": "[encoded data removed]",
            "text/plain": [
              "<Figure size 432x288 with 1 Axes>"
            ]
          },
          "metadata": {
            "tags": [],
            "needs_background": "light"
          }
        }
      ]
    },
    {
      "cell_type": "code",
      "metadata": {
        "id": "Y1Cit8PZezbW",
        "colab_type": "code",
        "colab": {
          "base_uri": "https://localhost:8080/",
          "height": 309
        },
        "outputId": "4b305eee-e172-467b-9c22-322daf439943"
      },
      "source": [
        "\n",
        "#model training\n",
        "\n",
        "print('Training LSTM model.')\n",
        "\n",
        "model = Sequential()\n",
        "model.add(Embedding(MAX_NB_WORDS,\n",
        " 100,\n",
        " input_length=MAX_SEQUENCE_LENGTH\n",
        " ))\n",
        "model.add(LSTM(output_dim=16, activation='relu', inner_activation='hard_sigmoid',return_sequences=True))\n",
        "model.add(Dropout(0.2))\n",
        "model.add(BatchNormalization())\n",
        "\n",
        "model.add(Flatten())\n",
        "\n",
        "model.add(Dense(2,activation='softmax'))\n",
        "\n",
        "model.compile(loss = 'binary_crossentropy', optimizer='adam',metrics = ['accuracy'])\n",
        "\n",
        "history = model.fit(train_data, train_labels, batch_size=16,epochs=5,validation_split=0.2)"
      ],
      "execution_count": 58,
      "outputs": [
        {
          "output_type": "stream",
          "text": [
            "Training LSTM model.\n"
          ],
          "name": "stdout"
        },
        {
          "output_type": "stream",
          "text": [
            "/usr/local/lib/python3.6/dist-packages/ipykernel_launcher.py:11: UserWarning: Update your `LSTM` call to the Keras 2 API: `LSTM(activation=\"relu\", return_sequences=True, units=16, recurrent_activation=\"hard_sigmoid\")`\n",
            "  # This is added back by InteractiveShellApp.init_path()\n",
            "/usr/local/lib/python3.6/dist-packages/tensorflow/python/framework/indexed_slices.py:434: UserWarning: Converting sparse IndexedSlices to a dense Tensor of unknown shape. This may consume a large amount of memory.\n",
            "  \"Converting sparse IndexedSlices to a dense Tensor of unknown shape. \"\n"
          ],
          "name": "stderr"
        },
        {
          "output_type": "stream",
          "text": [
            "Train on 3565 samples, validate on 892 samples\n",
            "Epoch 1/5\n",
            "3565/3565 [==============================] - 184s 52ms/step - loss: 0.1442 - accuracy: 0.9484 - val_loss: 0.2772 - val_accuracy: 0.9070\n",
            "Epoch 2/5\n",
            "3565/3565 [==============================] - 183s 51ms/step - loss: 0.0157 - accuracy: 0.9950 - val_loss: 0.0936 - val_accuracy: 0.9776\n",
            "Epoch 3/5\n",
            "3565/3565 [==============================] - 183s 51ms/step - loss: 0.0041 - accuracy: 0.9989 - val_loss: 0.0714 - val_accuracy: 0.9843\n",
            "Epoch 4/5\n",
            "3565/3565 [==============================] - 183s 51ms/step - loss: 0.0025 - accuracy: 0.9994 - val_loss: 0.0945 - val_accuracy: 0.9809\n",
            "Epoch 5/5\n",
            "3565/3565 [==============================] - 182s 51ms/step - loss: 6.9928e-04 - accuracy: 0.9997 - val_loss: 0.0896 - val_accuracy: 0.9821\n"
          ],
          "name": "stdout"
        }
      ]
    },
    {
      "cell_type": "code",
      "metadata": {
        "id": "offj_E-2jPc-",
        "colab_type": "code",
        "colab": {
          "base_uri": "https://localhost:8080/",
          "height": 295
        },
        "outputId": "62c44578-da63-4682-ad8e-b4b9e3a5a8e9"
      },
      "source": [
        "plt.plot(history.history['accuracy'])\n",
        "plt.plot(history.history['val_accuracy'])\n",
        "plt.title('model accuracy')\n",
        "plt.ylabel('accuracy')\n",
        "plt.xlabel('epoch')\n",
        "plt.legend(['train', 'test'], loc='upper left')\n",
        "plt.show()"
      ],
      "execution_count": 59,
      "outputs": [
        {
          "output_type": "display_data",
          "data": {
            "image/png": "[encoded data removed]",
            "text/plain": [
              "<Figure size 432x288 with 1 Axes>"
            ]
          },
          "metadata": {
            "tags": [],
            "needs_background": "light"
          }
        }
      ]
    },
    {
      "cell_type": "code",
      "metadata": {
        "id": "MFUf3ErGjPnl",
        "colab_type": "code",
        "colab": {
          "base_uri": "https://localhost:8080/",
          "height": 295
        },
        "outputId": "c6500493-1f41-4e2e-dd29-57270091b7d2"
      },
      "source": [
        "plt.plot(history.history['loss'])\n",
        "plt.plot(history.history['val_loss'])\n",
        "plt.title('model loss')\n",
        "plt.ylabel('loss')\n",
        "plt.xlabel('epoch')\n",
        "plt.legend(['train', 'test'], loc='upper left')\n",
        "plt.show()"
      ],
      "execution_count": 60,
      "outputs": [
        {
          "output_type": "display_data",
          "data": {
            "image/png": "[encoded data removed]",
            "text/plain": [
              "<Figure size 432x288 with 1 Axes>"
            ]
          },
          "metadata": {
            "tags": [],
            "needs_background": "light"
          }
        }
      ]
    },
    {
      "cell_type": "code",
      "metadata": {
        "id": "LCTulagOfW_N",
        "colab_type": "code",
        "colab": {
          "base_uri": "https://localhost:8080/",
          "height": 272
        },
        "outputId": "ae1d1d40-78ba-4064-c71e-06e4fe05e70c"
      },
      "source": [
        "predicted_lstm=model.predict(test_data)\n",
        "predicted_lstm\n",
        "\n",
        "#model evaluation \n",
        "\n",
        "from sklearn.metrics import precision_recall_fscore_support as score\n",
        "\n",
        "precision, recall, fscore, support = score(test_labels, predicted_lstm.round())\n",
        "\n",
        "print('precision: {}'.format(precision))\n",
        "print('recall: {}'.format(recall))\n",
        "print('fscore: {}'.format(fscore))\n",
        "print('support: {}'.format(support))\n",
        "\n",
        "print(\"############################\")\n",
        "\n",
        "print(sklearn.metrics.classification_report(test_labels, predicted_lstm.round()))"
      ],
      "execution_count": 62,
      "outputs": [
        {
          "output_type": "stream",
          "text": [
            "precision: [0.98582996 1.        ]\n",
            "recall: [1.         0.90070922]\n",
            "fscore: [0.99286442 0.94776119]\n",
            "support: [974 141]\n",
            "############################\n",
            "              precision    recall  f1-score   support\n",
            "\n",
            "           0       0.99      1.00      0.99       974\n",
            "           1       1.00      0.90      0.95       141\n",
            "\n",
            "   micro avg       0.99      0.99      0.99      1115\n",
            "   macro avg       0.99      0.95      0.97      1115\n",
            "weighted avg       0.99      0.99      0.99      1115\n",
            " samples avg       0.99      0.99      0.99      1115\n",
            "\n"
          ],
          "name": "stdout"
        }
      ]
    },
    {
      "cell_type": "code",
      "metadata": {
        "id": "Xn_2xGroh43v",
        "colab_type": "code",
        "colab": {
          "base_uri": "https://localhost:8080/",
          "height": 207
        },
        "outputId": "a2fb83ef-eafa-4a5c-f614-3d11d8153a11"
      },
      "source": [
        "print('Training Bidirectional LSTM model.')\n",
        "\n",
        "model = Sequential()\n",
        "model.add(Embedding(MAX_NB_WORDS,\n",
        " 100,\n",
        " input_length=MAX_SEQUENCE_LENGTH\n",
        " ))\n",
        "model.add(Bidirectional(LSTM(16, return_sequences=True, dropout=0.1, recurrent_dropout=0.1)))\n",
        "model.add(Conv1D(16, kernel_size = 3, padding = \"valid\", kernel_initializer = \"glorot_uniform\"))\n",
        "model.add(GlobalMaxPool1D())\n",
        "model.add(Dense(50, activation=\"relu\"))\n",
        "model.add(Dropout(0.1))\n",
        "\n",
        "model.add(Dense(2,activation='softmax'))\n",
        "\n",
        "model.compile(loss = 'binary_crossentropy', optimizer='adam',metrics = ['accuracy'])\n",
        "\n",
        "history = model.fit(train_data, train_labels,batch_size=16,epochs=3,validation_data=(test_data, test_labels))"
      ],
      "execution_count": 65,
      "outputs": [
        {
          "output_type": "stream",
          "text": [
            "Training Bidirectional LSTM model.\n"
          ],
          "name": "stdout"
        },
        {
          "output_type": "stream",
          "text": [
            "/usr/local/lib/python3.6/dist-packages/tensorflow/python/framework/indexed_slices.py:434: UserWarning: Converting sparse IndexedSlices to a dense Tensor of unknown shape. This may consume a large amount of memory.\n",
            "  \"Converting sparse IndexedSlices to a dense Tensor of unknown shape. \"\n"
          ],
          "name": "stderr"
        },
        {
          "output_type": "stream",
          "text": [
            "Train on 4457 samples, validate on 1115 samples\n",
            "Epoch 1/3\n",
            "4457/4457 [==============================] - 314s 70ms/step - loss: 0.1583 - accuracy: 0.9466 - val_loss: 0.0568 - val_accuracy: 0.9874\n",
            "Epoch 2/3\n",
            "4457/4457 [==============================] - 311s 70ms/step - loss: 0.0201 - accuracy: 0.9955 - val_loss: 0.0634 - val_accuracy: 0.9892\n",
            "Epoch 3/3\n",
            "4457/4457 [==============================] - 311s 70ms/step - loss: 0.0078 - accuracy: 0.9980 - val_loss: 0.0752 - val_accuracy: 0.9839\n"
          ],
          "name": "stdout"
        }
      ]
    },
    {
      "cell_type": "code",
      "metadata": {
        "id": "zxvSEl72j0VX",
        "colab_type": "code",
        "colab": {
          "base_uri": "https://localhost:8080/",
          "height": 295
        },
        "outputId": "dbe7b899-0c9d-434a-c1ba-fa22a9ac2f16"
      },
      "source": [
        "plt.plot(history.history['accuracy'])\n",
        "plt.plot(history.history['val_accuracy'])\n",
        "plt.title('model accuracy')\n",
        "plt.ylabel('accuracy')\n",
        "plt.xlabel('epoch')\n",
        "plt.legend(['train', 'test'], loc='upper left')\n",
        "plt.show()"
      ],
      "execution_count": 66,
      "outputs": [
        {
          "output_type": "display_data",
          "data": {
            "image/png": "[encoded data removed]",
            "text/plain": [
              "<Figure size 432x288 with 1 Axes>"
            ]
          },
          "metadata": {
            "tags": [],
            "needs_background": "light"
          }
        }
      ]
    },
    {
      "cell_type": "code",
      "metadata": {
        "id": "v9M_b2PSj0SF",
        "colab_type": "code",
        "colab": {
          "base_uri": "https://localhost:8080/",
          "height": 295
        },
        "outputId": "2526300d-0064-4d98-8c11-cf0925c8f2aa"
      },
      "source": [
        "plt.plot(history.history['loss'])\n",
        "plt.plot(history.history['val_loss'])\n",
        "plt.title('model loss')\n",
        "plt.ylabel('loss')\n",
        "plt.xlabel('epoch')\n",
        "plt.legend(['train', 'test'], loc='upper left')\n",
        "plt.show()"
      ],
      "execution_count": 67,
      "outputs": [
        {
          "output_type": "display_data",
          "data": {
            "image/png": "[encoded data removed]",
            "text/plain": [
              "<Figure size 432x288 with 1 Axes>"
            ]
          },
          "metadata": {
            "tags": [],
            "needs_background": "light"
          }
        }
      ]
    },
    {
      "cell_type": "code",
      "metadata": {
        "id": "RuB__kkRiFbn",
        "colab_type": "code",
        "colab": {
          "base_uri": "https://localhost:8080/",
          "height": 284
        },
        "outputId": "cb045abf-11b4-4dd3-e1da-190622bed134"
      },
      "source": [
        "\n",
        "predicted_blstm=model.predict(test_data)\n",
        "predicted_blstm\n",
        "\n",
        "#model evaluation\n",
        "\n",
        "from sklearn.metrics import precision_recall_fscore_support as score\n",
        "\n",
        "precision, recall, fscore, support = score(test_labels, predicted_blstm.round())\n",
        "\n",
        "print('precision: {}'.format(precision))\n",
        "print('recall: {}'.format(recall))\n",
        "print('fscore: {}'.format(fscore))\n",
        "print('support: {}'.format(support))\n",
        "\n",
        "print(\"############################\")\n",
        "\n",
        "print(sklearn.metrics.classification_report(labels_test, predicted_blstm.round()))"
      ],
      "execution_count": 68,
      "outputs": [
        {
          "output_type": "stream",
          "text": [
            "precision: [0.98676171 0.96240602]\n",
            "recall: [0.99486653 0.90780142]\n",
            "fscore: [0.99079755 0.93430657]\n",
            "support: [974 141]\n",
            "############################\n"
          ],
          "name": "stdout"
        },
        {
          "output_type": "error",
          "ename": "NameError",
          "evalue": "ignored",
          "traceback": [
            "\u001b[0;31m---------------------------------------------------------------------------\u001b[0m",
            "\u001b[0;31mNameError\u001b[0m                                 Traceback (most recent call last)",
            "\u001b[0;32m<ipython-input-68-3942ea1bd743>\u001b[0m in \u001b[0;36m<module>\u001b[0;34m()\u001b[0m\n\u001b[1;32m     16\u001b[0m \u001b[0mprint\u001b[0m\u001b[0;34m(\u001b[0m\u001b[0;34m\"############################\"\u001b[0m\u001b[0;34m)\u001b[0m\u001b[0;34m\u001b[0m\u001b[0;34m\u001b[0m\u001b[0m\n\u001b[1;32m     17\u001b[0m \u001b[0;34m\u001b[0m\u001b[0m\n\u001b[0;32m---> 18\u001b[0;31m \u001b[0mprint\u001b[0m\u001b[0;34m(\u001b[0m\u001b[0msklearn\u001b[0m\u001b[0;34m.\u001b[0m\u001b[0mmetrics\u001b[0m\u001b[0;34m.\u001b[0m\u001b[0mclassification_report\u001b[0m\u001b[0;34m(\u001b[0m\u001b[0mlabels_test\u001b[0m\u001b[0;34m,\u001b[0m \u001b[0mpredicted_blstm\u001b[0m\u001b[0;34m.\u001b[0m\u001b[0mround\u001b[0m\u001b[0;34m(\u001b[0m\u001b[0;34m)\u001b[0m\u001b[0;34m)\u001b[0m\u001b[0;34m)\u001b[0m\u001b[0;34m\u001b[0m\u001b[0;34m\u001b[0m\u001b[0m\n\u001b[0m",
            "\u001b[0;31mNameError\u001b[0m: name 'labels_test' is not defined"
          ]
        }
      ]
    },
    {
      "cell_type": "code",
      "metadata": {
        "id": "CD6Xf9OriMYm",
        "colab_type": "code",
        "colab": {
          "base_uri": "https://localhost:8080/",
          "height": 34
        },
        "outputId": "a8d4ef38-4d9a-4b46-dfb7-1a8e8739238d"
      },
      "source": [
        "email = pd.Series(['Hey you won a free lottery ticket'])\n",
        "email = pipeline(email)\n",
        "email = tokens.texts_to_sequences(email)\n",
        "email = pad_sequences(email , maxlen = 300 )\n",
        "model.predict_classes(email)\n"
      ],
      "execution_count": 79,
      "outputs": [
        {
          "output_type": "execute_result",
          "data": {
            "text/plain": [
              "array([0])"
            ]
          },
          "metadata": {
            "tags": []
          },
          "execution_count": 79
        }
      ]
    },
    {
      "cell_type": "code",
      "metadata": {
        "id": "504Ir_-wng67",
        "colab_type": "code",
        "colab": {}
      },
      "source": [
        "ham , spam = data.Text[0] , data.Text[2]"
      ],
      "execution_count": 0,
      "outputs": []
    },
    {
      "cell_type": "code",
      "metadata": {
        "id": "TysT7jXXouWs",
        "colab_type": "code",
        "colab": {
          "base_uri": "https://localhost:8080/",
          "height": 34
        },
        "outputId": "666b300b-9bde-4656-ba69-67e0de9c9a4a"
      },
      "source": [
        "email = pd.Series([ham])\n",
        "email = pipeline(email)\n",
        "email = tokens.texts_to_sequences(email)\n",
        "email = pad_sequences(email , maxlen = 300 )\n",
        "model.predict_classes(email)"
      ],
      "execution_count": 82,
      "outputs": [
        {
          "output_type": "execute_result",
          "data": {
            "text/plain": [
              "array([0])"
            ]
          },
          "metadata": {
            "tags": []
          },
          "execution_count": 82
        }
      ]
    },
    {
      "cell_type": "code",
      "metadata": {
        "id": "xk-WHY2Zo6OI",
        "colab_type": "code",
        "colab": {
          "base_uri": "https://localhost:8080/",
          "height": 54
        },
        "outputId": "b34e4501-e73e-449c-aa10-0fca39c0b441"
      },
      "source": [
        "email = pd.Series([spam])\n",
        "email = pipeline(email)\n",
        "email = tokens.texts_to_sequences(email)\n",
        "email = pad_sequences(email , maxlen = 300 )\n",
        "if model.predict_classes(email)[0] == 1 :\n",
        "  print(f'{spam} ------>>> SPAM')\n",
        "else:\n",
        "  print('Ham')\n"
      ],
      "execution_count": 93,
      "outputs": [
        {
          "output_type": "stream",
          "text": [
            "free entri wkli comp win fa cup final tkt st may text fa receiv entri questionstd txt ratetc appli over ------>>> SPAM\n"
          ],
          "name": "stdout"
        }
      ]
    },
    {
      "cell_type": "code",
      "metadata": {
        "id": "Ussr6_KqpFWV",
        "colab_type": "code",
        "colab": {}
      },
      "source": [
        "model.save('Model.h5')"
      ],
      "execution_count": 0,
      "outputs": []
    },
    {
      "cell_type": "code",
      "metadata": {
        "id": "-JQmHuKQqL-d",
        "colab_type": "code",
        "colab": {}
      },
      "source": [
        ""
      ],
      "execution_count": 0,
      "outputs": []
    }
  ]
}